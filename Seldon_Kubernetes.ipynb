{
 "cells": [
  {
   "cell_type": "markdown",
   "metadata": {},
   "source": [
    "# Tutorial to run ONNX model in seldon-core"
   ]
  },
  {
   "cell_type": "markdown",
   "metadata": {},
   "source": [
    "In order to run the tutorial you need to install the following packages:\n",
    "- [minikube](https://github.com/kubernetes/minikube): local kubernetes cluster\n",
    "- [helm](https://helm.sh/): package manager for kubernetes\n",
    "- [s2i](https://github.com/openshift/source-to-image): source-to-image (s2i) - build containers from templates and source code."
   ]
  },
  {
   "cell_type": "markdown",
   "metadata": {},
   "source": [
    "Create the local kubernetes cluster."
   ]
  },
  {
   "cell_type": "code",
   "execution_count": 1,
   "metadata": {},
   "outputs": [
    {
     "name": "stdout",
     "output_type": "stream",
     "text": [
      "😄  minikube v1.3.1 on Darwin 10.14.3\n",
      "🔥  Creating virtualbox VM (CPUs=4, Memory=4096MB, Disk=20000MB) ...\n",
      "🐳  Preparing Kubernetes v1.15.2 on Docker 18.09.8 ...\n",
      "🚜  Pulling images ...\n",
      "🚀  Launching Kubernetes ... \n",
      "⌛  Waiting for: apiserver proxy etcd scheduler controller dns\n",
      "🏄  Done! kubectl is now configured to use \"minikube\"\n"
     ]
    }
   ],
   "source": [
    "!minikube start --memory 4096 --cpus 4"
   ]
  },
  {
   "cell_type": "markdown",
   "metadata": {},
   "source": [
    "Create a kubernetes admin role."
   ]
  },
  {
   "cell_type": "code",
   "execution_count": 2,
   "metadata": {},
   "outputs": [
    {
     "name": "stdout",
     "output_type": "stream",
     "text": [
      "clusterrolebinding.rbac.authorization.k8s.io/kube-system-cluster-admin created\r\n"
     ]
    }
   ],
   "source": [
    "!kubectl create clusterrolebinding kube-system-cluster-admin --clusterrole=cluster-admin --serviceaccount=kube-system:default"
   ]
  },
  {
   "cell_type": "markdown",
   "metadata": {},
   "source": [
    "Install helm."
   ]
  },
  {
   "cell_type": "code",
   "execution_count": 3,
   "metadata": {},
   "outputs": [
    {
     "name": "stdout",
     "output_type": "stream",
     "text": [
      "$HELM_HOME has been configured at /Users/naxty/.helm.\n",
      "\n",
      "Tiller (the Helm server-side component) has been installed into your Kubernetes Cluster.\n",
      "\n",
      "Please note: by default, Tiller is deployed with an insecure 'allow unauthenticated users' policy.\n",
      "To prevent this, run `helm init` with the --tiller-tls-verify flag.\n",
      "For more information on securing your installation see: https://docs.helm.sh/using_helm/#securing-your-helm-installation\n"
     ]
    }
   ],
   "source": [
    "!helm init"
   ]
  },
  {
   "cell_type": "code",
   "execution_count": 4,
   "metadata": {},
   "outputs": [
    {
     "name": "stdout",
     "output_type": "stream",
     "text": [
      "Waiting for deployment \"tiller-deploy\" rollout to finish: 0 of 1 updated replicas are available...\n",
      "deployment \"tiller-deploy\" successfully rolled out\n"
     ]
    }
   ],
   "source": [
    "!kubectl rollout status deploy/tiller-deploy -n kube-system"
   ]
  },
  {
   "cell_type": "markdown",
   "metadata": {},
   "source": [
    "Add and install the seldcon operator."
   ]
  },
  {
   "cell_type": "code",
   "execution_count": 5,
   "metadata": {},
   "outputs": [
    {
     "name": "stdout",
     "output_type": "stream",
     "text": [
      "\"seldon\" has been added to your repositories\r\n"
     ]
    }
   ],
   "source": [
    "!helm repo add seldon https://storage.googleapis.com/seldon-charts"
   ]
  },
  {
   "cell_type": "code",
   "execution_count": 6,
   "metadata": {},
   "outputs": [
    {
     "name": "stdout",
     "output_type": "stream",
     "text": [
      "NAME:   peddling-dolphin\n",
      "LAST DEPLOYED: Tue Sep  3 08:11:57 2019\n",
      "NAMESPACE: default\n",
      "STATUS: DEPLOYED\n",
      "\n",
      "RESOURCES:\n",
      "==> v1/ClusterRole\n",
      "NAME                          AGE\n",
      "seldon-operator-manager-role  1s\n",
      "\n",
      "==> v1/ClusterRoleBinding\n",
      "NAME                                 AGE\n",
      "seldon-operator-manager-rolebinding  1s\n",
      "\n",
      "==> v1/ConfigMap\n",
      "NAME           DATA  AGE\n",
      "seldon-config  1     1s\n",
      "\n",
      "==> v1/Pod(related)\n",
      "NAME                                  READY  STATUS             RESTARTS  AGE\n",
      "seldon-operator-controller-manager-0  0/1    ContainerCreating  0         1s\n",
      "\n",
      "==> v1/Secret\n",
      "NAME                                   TYPE    DATA  AGE\n",
      "seldon-operator-webhook-server-secret  Opaque  0     1s\n",
      "\n",
      "==> v1/Service\n",
      "NAME                                        TYPE       CLUSTER-IP      EXTERNAL-IP  PORT(S)  AGE\n",
      "seldon-operator-controller-manager-service  ClusterIP  10.105.185.120  <none>       443/TCP  1s\n",
      "webhook-server-service                      ClusterIP  10.107.170.139  <none>       443/TCP  1s\n",
      "\n",
      "==> v1/ServiceAccount\n",
      "NAME                                   SECRETS  AGE\n",
      "peddling-dolphin-seldon-core-operator  1        1s\n",
      "\n",
      "==> v1/StatefulSet\n",
      "NAME                                READY  AGE\n",
      "seldon-operator-controller-manager  0/1    1s\n",
      "\n",
      "==> v1beta1/CustomResourceDefinition\n",
      "NAME                                         AGE\n",
      "seldondeployments.machinelearning.seldon.io  1s\n",
      "\n",
      "\n",
      "NOTES:\n",
      "NOTES: TODO\n",
      "\n",
      "\n"
     ]
    }
   ],
   "source": [
    "!helm install seldon/seldon-core-operator --version 0.4.0"
   ]
  },
  {
   "cell_type": "code",
   "execution_count": 7,
   "metadata": {},
   "outputs": [
    {
     "name": "stdout",
     "output_type": "stream",
     "text": [
      "partitioned roll out complete: 1 new pods have been updated...\r\n"
     ]
    }
   ],
   "source": [
    "!kubectl rollout status statefulset.apps/seldon-operator-controller-manager"
   ]
  },
  {
   "cell_type": "markdown",
   "metadata": {},
   "source": [
    "Install ambassador as ingress."
   ]
  },
  {
   "cell_type": "code",
   "execution_count": 8,
   "metadata": {},
   "outputs": [
    {
     "name": "stdout",
     "output_type": "stream",
     "text": [
      "NAME:   ambassador\n",
      "LAST DEPLOYED: Tue Sep  3 08:12:21 2019\n",
      "NAMESPACE: default\n",
      "STATUS: DEPLOYED\n",
      "\n",
      "RESOURCES:\n",
      "==> v1/Deployment\n",
      "NAME        READY  UP-TO-DATE  AVAILABLE  AGE\n",
      "ambassador  0/3    3           0          0s\n",
      "\n",
      "==> v1/Pod(related)\n",
      "NAME                         READY  STATUS             RESTARTS  AGE\n",
      "ambassador-7cb6588db7-gjprf  0/1    ContainerCreating  0         0s\n",
      "ambassador-7cb6588db7-tgw8p  0/1    ContainerCreating  0         0s\n",
      "ambassador-7cb6588db7-vlhxl  0/1    ContainerCreating  0         0s\n",
      "\n",
      "==> v1/Service\n",
      "NAME              TYPE          CLUSTER-IP     EXTERNAL-IP  PORT(S)                     AGE\n",
      "ambassador        LoadBalancer  10.110.50.126  <pending>    80:30809/TCP,443:31164/TCP  0s\n",
      "ambassador-admin  ClusterIP     10.105.221.81  <none>       8877/TCP                    0s\n",
      "\n",
      "==> v1/ServiceAccount\n",
      "NAME        SECRETS  AGE\n",
      "ambassador  1        0s\n",
      "\n",
      "==> v1beta1/ClusterRole\n",
      "NAME             AGE\n",
      "ambassador       0s\n",
      "ambassador-crds  0s\n",
      "\n",
      "==> v1beta1/ClusterRoleBinding\n",
      "NAME             AGE\n",
      "ambassador       0s\n",
      "ambassador-crds  0s\n",
      "\n",
      "==> v1beta1/CustomResourceDefinition\n",
      "NAME                                          AGE\n",
      "authservices.getambassador.io                 0s\n",
      "consulresolvers.getambassador.io              0s\n",
      "kubernetesendpointresolvers.getambassador.io  0s\n",
      "kubernetesserviceresolvers.getambassador.io   0s\n",
      "mappings.getambassador.io                     0s\n",
      "modules.getambassador.io                      0s\n",
      "ratelimitservices.getambassador.io            0s\n",
      "tcpmappings.getambassador.io                  0s\n",
      "tlscontexts.getambassador.io                  0s\n",
      "tracingservices.getambassador.io              0s\n",
      "\n",
      "\n",
      "NOTES:\n",
      "Congratuations! You've successfully installed Ambassador.\n",
      "\n",
      "For help, visit our Slack at https://d6e.co/slack or view the documentation online at https://www.getambassador.io.\n",
      "\n",
      "To get the IP address of Ambassador, run the following commands:\n",
      "NOTE: It may take a few minutes for the LoadBalancer IP to be available.\n",
      "     You can watch the status of by running 'kubectl get svc -w  --namespace default ambassador'\n",
      "\n",
      "  On GKE/Azure:\n",
      "  export SERVICE_IP=$(kubectl get svc --namespace default ambassador -o jsonpath='{.status.loadBalancer.ingress[0].ip}')\n",
      "\n",
      "  On AWS:\n",
      "  export SERVICE_IP=$(kubectl get svc --namespace default ambassador -o jsonpath='{.status.loadBalancer.ingress[0].hostname}')\n",
      "\n",
      "  echo http://$SERVICE_IP:\n",
      "\n"
     ]
    }
   ],
   "source": [
    "!helm install stable/ambassador --name ambassador --set crds.keep=false"
   ]
  },
  {
   "cell_type": "code",
   "execution_count": 9,
   "metadata": {},
   "outputs": [
    {
     "name": "stdout",
     "output_type": "stream",
     "text": [
      "Waiting for deployment \"ambassador\" rollout to finish: 0 of 3 updated replicas are available...\n",
      "Waiting for deployment \"ambassador\" rollout to finish: 1 of 3 updated replicas are available...\n",
      "Waiting for deployment \"ambassador\" rollout to finish: 2 of 3 updated replicas are available...\n",
      "deployment \"ambassador\" successfully rolled out\n"
     ]
    }
   ],
   "source": [
    "!kubectl rollout status deployment.apps/ambassador"
   ]
  },
  {
   "cell_type": "markdown",
   "metadata": {},
   "source": [
    "Build the container based with source-to-image."
   ]
  },
  {
   "cell_type": "code",
   "execution_count": 10,
   "metadata": {},
   "outputs": [
    {
     "name": "stdout",
     "output_type": "stream",
     "text": [
      "---> Installing application source...\n",
      "---> Installing dependencies ...\n",
      "Looking in links: /whl\n",
      "Requirement already satisfied: seldon-core in ./python (from -r requirements.txt (line 1)) (0.4.0)\n",
      "Collecting ngraph-onnx (from -r requirements.txt (line 2))\n",
      "  WARNING: Url '/whl' is ignored. It is either a non-existing path or lacks a specific scheme.\n",
      "Downloading https://files.pythonhosted.org/packages/53/82/8440d4bf3e0de3fbea9cdc4fe627dfb66757f2d63d8b342532f7067ce09e/ngraph_onnx-0.24.0-py3-none-any.whl\n",
      "Requirement already satisfied: numpy in /usr/local/lib/python3.7/site-packages (from -r requirements.txt (line 3)) (1.17.0)\n",
      "Requirement already satisfied: flask in /usr/local/lib/python3.7/site-packages (from seldon-core->-r requirements.txt (line 1)) (1.1.1)\n",
      "Requirement already satisfied: flask-cors in /usr/local/lib/python3.7/site-packages (from seldon-core->-r requirements.txt (line 1)) (3.0.8)\n",
      "Requirement already satisfied: redis in /usr/local/lib/python3.7/site-packages (from seldon-core->-r requirements.txt (line 1)) (3.3.7)\n",
      "Requirement already satisfied: requests in /usr/local/lib/python3.7/site-packages (from seldon-core->-r requirements.txt (line 1)) (2.22.0)\n",
      "Requirement already satisfied: flatbuffers in /usr/local/lib/python3.7/site-packages (from seldon-core->-r requirements.txt (line 1)) (1.11)\n",
      "Requirement already satisfied: protobuf in /usr/local/lib/python3.7/site-packages (from seldon-core->-r requirements.txt (line 1)) (3.9.1)\n",
      "Requirement already satisfied: grpcio in /usr/local/lib/python3.7/site-packages (from seldon-core->-r requirements.txt (line 1)) (1.23.0)\n",
      "Requirement already satisfied: tensorflow in /usr/local/lib/python3.7/site-packages (from seldon-core->-r requirements.txt (line 1)) (1.14.0)\n",
      "Requirement already satisfied: Flask-OpenTracing==0.2.0 in /usr/local/lib/python3.7/site-packages (from seldon-core->-r requirements.txt (line 1)) (0.2.0)\n",
      "Requirement already satisfied: opentracing<2,>=1.2.2 in /usr/local/lib/python3.7/site-packages (from seldon-core->-r requirements.txt (line 1)) (1.3.0)\n",
      "Requirement already satisfied: jaeger-client==3.13.0 in /usr/local/lib/python3.7/site-packages (from seldon-core->-r requirements.txt (line 1)) (3.13.0)\n",
      "Requirement already satisfied: grpcio-opentracing in /usr/local/lib/python3.7/site-packages (from seldon-core->-r requirements.txt (line 1)) (1.1.4)\n",
      "Requirement already satisfied: pyyaml in /usr/local/lib/python3.7/site-packages (from seldon-core->-r requirements.txt (line 1)) (5.1.2)\n",
      "Requirement already satisfied: gunicorn>=19.9.0 in /usr/local/lib/python3.7/site-packages (from seldon-core->-r requirements.txt (line 1)) (19.9.0)\n",
      "Requirement already satisfied: minio>=4.0.9 in /usr/local/lib/python3.7/site-packages (from seldon-core->-r requirements.txt (line 1)) (4.0.20)\n",
      "Requirement already satisfied: google-cloud-storage>=1.16.0 in /usr/local/lib/python3.7/site-packages (from seldon-core->-r requirements.txt (line 1)) (1.18.0)\n",
      "Requirement already satisfied: azure-storage-blob>=2.0.1 in /usr/local/lib/python3.7/site-packages (from seldon-core->-r requirements.txt (line 1)) (2.1.0)\n",
      "Collecting ngraph-core (from ngraph-onnx->-r requirements.txt (line 2))\n",
      "  WARNING: Url '/whl' is ignored. It is either a non-existing path or lacks a specific scheme.\n",
      "Downloading https://files.pythonhosted.org/packages/f3/0a/3d38bb01243598b2e903f35c98a62c9a6db7aef17344aa6997b9813382f0/ngraph_core-0.25.0-cp37-cp37m-manylinux1_x86_64.whl (87.4MB)\n",
      "Requirement already satisfied: setuptools in /usr/local/lib/python3.7/site-packages (from ngraph-onnx->-r requirements.txt (line 2)) (41.0.1)\n",
      "Requirement already satisfied: cachetools in /usr/local/lib/python3.7/site-packages (from ngraph-onnx->-r requirements.txt (line 2)) (3.1.1)\n",
      "Collecting onnx (from ngraph-onnx->-r requirements.txt (line 2))\n",
      "  WARNING: Url '/whl' is ignored. It is either a non-existing path or lacks a specific scheme.\n",
      "Downloading https://files.pythonhosted.org/packages/c4/f7/6bb9782e7020a21154182b5de2169ed9393cc065359515aa6fccecdad618/onnx-1.5.0-cp37-cp37m-manylinux1_x86_64.whl (7.0MB)\n",
      "Requirement already satisfied: Werkzeug>=0.15 in /usr/local/lib/python3.7/site-packages (from flask->seldon-core->-r requirements.txt (line 1)) (0.15.5)\n",
      "Requirement already satisfied: itsdangerous>=0.24 in /usr/local/lib/python3.7/site-packages (from flask->seldon-core->-r requirements.txt (line 1)) (1.1.0)\n",
      "Requirement already satisfied: Jinja2>=2.10.1 in /usr/local/lib/python3.7/site-packages (from flask->seldon-core->-r requirements.txt (line 1)) (2.10.1)\n",
      "Requirement already satisfied: click>=5.1 in /usr/local/lib/python3.7/site-packages (from flask->seldon-core->-r requirements.txt (line 1)) (7.0)\n",
      "Requirement already satisfied: Six in /usr/local/lib/python3.7/site-packages (from flask-cors->seldon-core->-r requirements.txt (line 1)) (1.12.0)\n",
      "Requirement already satisfied: chardet<3.1.0,>=3.0.2 in /usr/local/lib/python3.7/site-packages (from requests->seldon-core->-r requirements.txt (line 1)) (3.0.4)\n",
      "Requirement already satisfied: idna<2.9,>=2.5 in /usr/local/lib/python3.7/site-packages (from requests->seldon-core->-r requirements.txt (line 1)) (2.8)\n",
      "Requirement already satisfied: certifi>=2017.4.17 in /usr/local/lib/python3.7/site-packages (from requests->seldon-core->-r requirements.txt (line 1)) (2019.6.16)\n",
      "Requirement already satisfied: urllib3!=1.25.0,!=1.25.1,<1.26,>=1.21.1 in /usr/local/lib/python3.7/site-packages (from requests->seldon-core->-r requirements.txt (line 1)) (1.25.3)\n",
      "Requirement already satisfied: astor>=0.6.0 in /usr/local/lib/python3.7/site-packages (from tensorflow->seldon-core->-r requirements.txt (line 1)) (0.8.0)\n",
      "Requirement already satisfied: termcolor>=1.1.0 in /usr/local/lib/python3.7/site-packages (from tensorflow->seldon-core->-r requirements.txt (line 1)) (1.1.0)\n",
      "Requirement already satisfied: absl-py>=0.7.0 in /usr/local/lib/python3.7/site-packages (from tensorflow->seldon-core->-r requirements.txt (line 1)) (0.7.1)\n",
      "Requirement already satisfied: tensorboard<1.15.0,>=1.14.0 in /usr/local/lib/python3.7/site-packages (from tensorflow->seldon-core->-r requirements.txt (line 1)) (1.14.0)\n",
      "Requirement already satisfied: tensorflow-estimator<1.15.0rc0,>=1.14.0rc0 in /usr/local/lib/python3.7/site-packages (from tensorflow->seldon-core->-r requirements.txt (line 1)) (1.14.0)\n",
      "Requirement already satisfied: gast>=0.2.0 in /usr/local/lib/python3.7/site-packages (from tensorflow->seldon-core->-r requirements.txt (line 1)) (0.2.2)\n",
      "Requirement already satisfied: wrapt>=1.11.1 in /usr/local/lib/python3.7/site-packages (from tensorflow->seldon-core->-r requirements.txt (line 1)) (1.11.2)\n",
      "Requirement already satisfied: keras-preprocessing>=1.0.5 in /usr/local/lib/python3.7/site-packages (from tensorflow->seldon-core->-r requirements.txt (line 1)) (1.1.0)\n",
      "Requirement already satisfied: wheel>=0.26 in /usr/local/lib/python3.7/site-packages (from tensorflow->seldon-core->-r requirements.txt (line 1)) (0.33.1)\n",
      "Requirement already satisfied: keras-applications>=1.0.6 in /usr/local/lib/python3.7/site-packages (from tensorflow->seldon-core->-r requirements.txt (line 1)) (1.0.8)\n",
      "Requirement already satisfied: google-pasta>=0.1.6 in /usr/local/lib/python3.7/site-packages (from tensorflow->seldon-core->-r requirements.txt (line 1)) (0.1.7)\n",
      "Requirement already satisfied: thrift in /usr/local/lib/python3.7/site-packages (from jaeger-client==3.13.0->seldon-core->-r requirements.txt (line 1)) (0.11.0)\n",
      "Requirement already satisfied: tornado<5,>=4.3 in /usr/local/lib/python3.7/site-packages (from jaeger-client==3.13.0->seldon-core->-r requirements.txt (line 1)) (4.5.3)\n",
      "Requirement already satisfied: threadloop<2,>=1 in /usr/local/lib/python3.7/site-packages (from jaeger-client==3.13.0->seldon-core->-r requirements.txt (line 1)) (1.0.2)\n",
      "Requirement already satisfied: future in /usr/local/lib/python3.7/site-packages (from minio>=4.0.9->seldon-core->-r requirements.txt (line 1)) (0.17.1)\n",
      "Requirement already satisfied: pytz in /usr/local/lib/python3.7/site-packages (from minio>=4.0.9->seldon-core->-r requirements.txt (line 1)) (2019.2)\n",
      "Requirement already satisfied: python-dateutil in /usr/local/lib/python3.7/site-packages (from minio>=4.0.9->seldon-core->-r requirements.txt (line 1)) (2.8.0)\n",
      "Requirement already satisfied: google-auth>=1.2.0 in /usr/local/lib/python3.7/site-packages (from google-cloud-storage>=1.16.0->seldon-core->-r requirements.txt (line 1)) (1.6.3)\n",
      "Requirement already satisfied: google-resumable-media>=0.3.1 in /usr/local/lib/python3.7/site-packages (from google-cloud-storage>=1.16.0->seldon-core->-r requirements.txt (line 1)) (0.3.2)\n",
      "Requirement already satisfied: google-cloud-core<2.0dev,>=1.0.0 in /usr/local/lib/python3.7/site-packages (from google-cloud-storage>=1.16.0->seldon-core->-r requirements.txt (line 1)) (1.0.3)\n"
     ]
    },
    {
     "name": "stdout",
     "output_type": "stream",
     "text": [
      "Requirement already satisfied: azure-common>=1.1.5 in /usr/local/lib/python3.7/site-packages (from azure-storage-blob>=2.0.1->seldon-core->-r requirements.txt (line 1)) (1.1.23)\n",
      "Requirement already satisfied: azure-storage-common~=2.1 in /usr/local/lib/python3.7/site-packages (from azure-storage-blob>=2.0.1->seldon-core->-r requirements.txt (line 1)) (2.1.0)\n",
      "Collecting typing (from ngraph-core->ngraph-onnx->-r requirements.txt (line 2))\n",
      "  WARNING: Url '/whl' is ignored. It is either a non-existing path or lacks a specific scheme.\n",
      "Downloading https://files.pythonhosted.org/packages/fe/2e/b480ee1b75e6d17d2993738670e75c1feeb9ff7f64452153cf018051cc92/typing-3.7.4.1-py3-none-any.whl\n",
      "Collecting typing-extensions>=3.6.2.1 (from onnx->ngraph-onnx->-r requirements.txt (line 2))\n",
      "  WARNING: Url '/whl' is ignored. It is either a non-existing path or lacks a specific scheme.\n",
      "Downloading https://files.pythonhosted.org/packages/27/aa/bd1442cfb0224da1b671ab334d3b0a4302e4161ea916e28904ff9618d471/typing_extensions-3.7.4-py3-none-any.whl\n",
      "Requirement already satisfied: MarkupSafe>=0.23 in /usr/local/lib/python3.7/site-packages (from Jinja2>=2.10.1->flask->seldon-core->-r requirements.txt (line 1)) (1.1.1)\n",
      "Requirement already satisfied: markdown>=2.6.8 in /usr/local/lib/python3.7/site-packages (from tensorboard<1.15.0,>=1.14.0->tensorflow->seldon-core->-r requirements.txt (line 1)) (3.1.1)\n",
      "Requirement already satisfied: h5py in /usr/local/lib/python3.7/site-packages (from keras-applications>=1.0.6->tensorflow->seldon-core->-r requirements.txt (line 1)) (2.9.0)\n",
      "Requirement already satisfied: rsa>=3.1.4 in /usr/local/lib/python3.7/site-packages (from google-auth>=1.2.0->google-cloud-storage>=1.16.0->seldon-core->-r requirements.txt (line 1)) (4.0)\n",
      "Requirement already satisfied: pyasn1-modules>=0.2.1 in /usr/local/lib/python3.7/site-packages (from google-auth>=1.2.0->google-cloud-storage>=1.16.0->seldon-core->-r requirements.txt (line 1)) (0.2.6)\n",
      "Requirement already satisfied: google-api-core<2.0.0dev,>=1.14.0 in /usr/local/lib/python3.7/site-packages (from google-cloud-core<2.0dev,>=1.0.0->google-cloud-storage>=1.16.0->seldon-core->-r requirements.txt (line 1)) (1.14.2)\n",
      "Requirement already satisfied: cryptography in /usr/local/lib/python3.7/site-packages (from azure-storage-common~=2.1->azure-storage-blob>=2.0.1->seldon-core->-r requirements.txt (line 1)) (2.7)\n",
      "Requirement already satisfied: pyasn1>=0.1.3 in /usr/local/lib/python3.7/site-packages (from rsa>=3.1.4->google-auth>=1.2.0->google-cloud-storage>=1.16.0->seldon-core->-r requirements.txt (line 1)) (0.4.6)\n",
      "Requirement already satisfied: googleapis-common-protos<2.0dev,>=1.6.0 in /usr/local/lib/python3.7/site-packages (from google-api-core<2.0.0dev,>=1.14.0->google-cloud-core<2.0dev,>=1.0.0->google-cloud-storage>=1.16.0->seldon-core->-r requirements.txt (line 1)) (1.6.0)\n",
      "Requirement already satisfied: cffi!=1.11.3,>=1.8 in /usr/local/lib/python3.7/site-packages (from cryptography->azure-storage-common~=2.1->azure-storage-blob>=2.0.1->seldon-core->-r requirements.txt (line 1)) (1.12.3)\n",
      "Requirement already satisfied: asn1crypto>=0.21.0 in /usr/local/lib/python3.7/site-packages (from cryptography->azure-storage-common~=2.1->azure-storage-blob>=2.0.1->seldon-core->-r requirements.txt (line 1)) (0.24.0)\n",
      "Requirement already satisfied: pycparser in /usr/local/lib/python3.7/site-packages (from cffi!=1.11.3,>=1.8->cryptography->azure-storage-common~=2.1->azure-storage-blob>=2.0.1->seldon-core->-r requirements.txt (line 1)) (2.19)\n",
      "Installing collected packages: typing, ngraph-core, typing-extensions, onnx, ngraph-onnx\n",
      "Successfully installed ngraph-core-0.25.0 ngraph-onnx-0.24.0 onnx-1.5.0 typing-3.7.4.1 typing-extensions-3.7.4\n",
      "WARNING: Url '/whl' is ignored. It is either a non-existing path or lacks a specific scheme.\n",
      "WARNING: You are using pip version 19.1.1, however version 19.2.3 is available.\n",
      "You should consider upgrading via the 'pip install --upgrade pip' command.\n",
      "Build completed successfully\n"
     ]
    }
   ],
   "source": [
    "!eval $(minikube docker-env) && s2i build . seldonio/seldon-core-s2i-python37:0.11 emotion-service:0.1"
   ]
  },
  {
   "cell_type": "markdown",
   "metadata": {},
   "source": [
    "Create the emotion_service deployment based on the json definition."
   ]
  },
  {
   "cell_type": "code",
   "execution_count": null,
   "metadata": {},
   "outputs": [],
   "source": [
    "!kubectl create -f emotion_service_deployment.json"
   ]
  },
  {
   "cell_type": "code",
   "execution_count": 12,
   "metadata": {
    "scrolled": true
   },
   "outputs": [
    {
     "name": "stdout",
     "output_type": "stream",
     "text": [
      "NAME                                                   READY   UP-TO-DATE   AVAILABLE   AGE\r\n",
      "ambassador                                             3/3     3            3           4m24s\r\n",
      "emotion-service-deployment-emotion-predictor-780e070   0/1     1            0           3s\r\n"
     ]
    }
   ],
   "source": [
    "!kubectl get deployments"
   ]
  },
  {
   "cell_type": "code",
   "execution_count": 13,
   "metadata": {},
   "outputs": [
    {
     "name": "stdout",
     "output_type": "stream",
     "text": [
      "Waiting for deployment \"emotion-service-deployment-emotion-predictor-780e070\" rollout to finish: 0 of 1 updated replicas are available...\n",
      "deployment \"emotion-service-deployment-emotion-predictor-780e070\" successfully rolled out\n"
     ]
    }
   ],
   "source": [
    "!kubectl rollout status deploy/emotion-service-deployment-emotion-predictor-780e070"
   ]
  },
  {
   "cell_type": "markdown",
   "metadata": {},
   "source": [
    "Retrieve the minikube ip and ambassador port"
   ]
  },
  {
   "cell_type": "code",
   "execution_count": 14,
   "metadata": {},
   "outputs": [
    {
     "name": "stdout",
     "output_type": "stream",
     "text": [
      "192.168.99.100\r\n"
     ]
    }
   ],
   "source": [
    "!minikube ip"
   ]
  },
  {
   "cell_type": "code",
   "execution_count": 16,
   "metadata": {},
   "outputs": [
    {
     "name": "stdout",
     "output_type": "stream",
     "text": [
      "30809"
     ]
    }
   ],
   "source": [
    "!kubectl get svc ambassador -o jsonpath='{.spec.ports[0].nodePort}'"
   ]
  },
  {
   "cell_type": "markdown",
   "metadata": {},
   "source": [
    "Test the service with the [smile image](images/smile.jpg)"
   ]
  },
  {
   "cell_type": "markdown",
   "metadata": {},
   "source": [
    "![smile image](images/smile.jpg)"
   ]
  },
  {
   "cell_type": "markdown",
   "metadata": {},
   "source": [
    "Todo: Replace the ip and port with the output of above."
   ]
  },
  {
   "cell_type": "code",
   "execution_count": 20,
   "metadata": {},
   "outputs": [
    {
     "name": "stdout",
     "output_type": "stream",
     "text": [
      "Note: Unnecessary use of -X or --request, POST is already inferred.\n",
      "*   Trying 192.168.99.100...\n",
      "* TCP_NODELAY set\n",
      "* Connected to 192.168.99.100 (192.168.99.100) port 30809 (#0)\n",
      "> POST /seldon/default/seldon-emotion/api/v0.1/predictions HTTP/1.1\n",
      "> Host: 192.168.99.100:30809\n",
      "> User-Agent: curl/7.54.0\n",
      "> Accept: */*\n",
      "> Content-Type: application/json\n",
      "> Content-Length: 14889\n",
      "> Expect: 100-continue\n",
      "> \n",
      "< HTTP/1.1 100 Continue\n",
      "* We are completely uploaded and fine\n",
      "< HTTP/1.1 200 OK\n",
      "< x-application-context: application:8081\n",
      "< content-type: application/json;charset=utf-8\n",
      "< content-length: 468\n",
      "< date: Tue, 03 Sep 2019 08:07:43 GMT\n",
      "< x-envoy-upstream-service-time: 99\n",
      "< server: envoy\n",
      "< \n",
      "{\n",
      "  \"meta\": {\n",
      "    \"puid\": \"b3p9347qqbqb0ikd8bf71o4vtd\",\n",
      "    \"tags\": {\n",
      "    },\n",
      "    \"routing\": {\n",
      "    },\n",
      "    \"requestPath\": {\n",
      "      \"emotion-classifier\": \"emotion-service:0.1\"\n",
      "    },\n",
      "    \"metrics\": []\n",
      "  },\n",
      "  \"jsonData\": {\n",
      "    \"anger\": \"0.00013194185\",\n",
      "    \"contempt\": \"0.0011185444\",\n",
      "    \"disgust\": \"4.5716013e-05\",\n",
      "    \"fear\": \"2.5447269e-05\",\n",
      "    \"happiness\": \"0.9006265\",\n",
      "    \"neutral\": \"0.09682974\",\n",
      "    \"sadness\": \"0.0007716458\",\n",
      "    \"surprise\": \"0.00045050628\"\n",
      "  }\n",
      "* Connection #0 to host 192.168.99.100 left intact\n",
      "}"
     ]
    }
   ],
   "source": [
    "!curl -vX POST http://192.168.99.100:30809/seldon/default/seldon-emotion/api/v0.1/predictions -d @payload.json --header \"Content-Type: application/json\""
   ]
  },
  {
   "cell_type": "markdown",
   "metadata": {},
   "source": [
    "# Credits\n",
    "- ONNX ResNet Tutorial by seldon.io: https://docs.seldon.io/projects/seldon-core/en/latest/examples/onnx_resnet.html"
   ]
  }
 ],
 "metadata": {
  "kernelspec": {
   "display_name": "Python 3",
   "language": "python",
   "name": "python3"
  },
  "language_info": {
   "codemirror_mode": {
    "name": "ipython",
    "version": 3
   },
   "file_extension": ".py",
   "mimetype": "text/x-python",
   "name": "python",
   "nbconvert_exporter": "python",
   "pygments_lexer": "ipython3",
   "version": "3.6.7"
  }
 },
 "nbformat": 4,
 "nbformat_minor": 2
}
