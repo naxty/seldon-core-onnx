{
 "cells": [
  {
   "cell_type": "code",
   "execution_count": null,
   "metadata": {},
   "outputs": [],
   "source": [
    "!pip install -r requirements.txt"
   ]
  },
  {
   "cell_type": "markdown",
   "metadata": {},
   "source": [
    "# Inference with ngraph"
   ]
  },
  {
   "cell_type": "code",
   "execution_count": null,
   "metadata": {},
   "outputs": [],
   "source": [
    "from ngraph_onnx.onnx_importer.importer import import_onnx_file\n",
    "import ngraph as ng\n",
    "# Import the ONNX file\n",
    "model = import_onnx_file('model/model.onnx')\n",
    "\n",
    "# Create an nGraph runtime environment\n",
    "runtime = ng.runtime(backend_name='CPU')\n",
    "\n",
    "# Select the first model and compile it to a callable function\n",
    "emotion_cnn = runtime.computation(model)"
   ]
  },
  {
   "cell_type": "code",
   "execution_count": null,
   "metadata": {},
   "outputs": [],
   "source": [
    "from PIL import Image\n",
    "import numpy as np"
   ]
  },
  {
   "cell_type": "code",
   "execution_count": null,
   "metadata": {},
   "outputs": [],
   "source": [
    "# Reading image and reshaping\n",
    "image = Image.open(\"images/smile.jpg\").convert('L')\n",
    "resized = image.resize((64, 64))\n",
    "\n",
    "values = np.array(resized).reshape(1, 1,  64, 64)"
   ]
  },
  {
   "cell_type": "code",
   "execution_count": null,
   "metadata": {},
   "outputs": [],
   "source": [
    "# Adding softmax to compute probability of outputs\n",
    "def _softmax( x):\n",
    "    e_x = np.exp(x -np.max(x))\n",
    "    return  e_x/np.sum(e_x)\n",
    "\n",
    "# compute probabilites and sort\n",
    "def _postprocess( x):\n",
    "    prob = _softmax(x)\n",
    "    prob = np.squeeze(prob)\n",
    "    classes = np.argsort(prob)[::-1]\n",
    "    return classes, prob"
   ]
  },
  {
   "cell_type": "code",
   "execution_count": null,
   "metadata": {},
   "outputs": [],
   "source": [
    "classes, prob = _postprocess(emotion_cnn(values))"
   ]
  },
  {
   "cell_type": "code",
   "execution_count": null,
   "metadata": {},
   "outputs": [],
   "source": [
    "# Class mapping\n",
    "emotion_table = {\n",
    "    \"0\": \"neutral\",\n",
    "    \"1\": \"happiness\",\n",
    "    \"2\": 'surprise',\n",
    "    \"3\": \"sadness\",\n",
    "    \"4\": \"anger\",\n",
    "    \"5\": \"disgust\",\n",
    "    \"6\": \"fear\",\n",
    "    \"7\": \"contempt\"\n",
    "}"
   ]
  },
  {
   "cell_type": "code",
   "execution_count": null,
   "metadata": {},
   "outputs": [],
   "source": [
    "{ emotion_table[str(c)]: str(prob[c]) for c in classes}"
   ]
  },
  {
   "cell_type": "code",
   "execution_count": null,
   "metadata": {},
   "outputs": [],
   "source": [
    "np.sum(prob)"
   ]
  },
  {
   "cell_type": "markdown",
   "metadata": {},
   "source": [
    "# Seldon Core Microservice"
   ]
  },
  {
   "cell_type": "code",
   "execution_count": 2,
   "metadata": {},
   "outputs": [
    {
     "name": "stdout",
     "output_type": "stream",
     "text": [
      "Starting seldon-core-onnx_emotion_service_1 ... \n",
      "\u001b[1Bting seldon-core-onnx_emotion_service_1 ... \u001b[32mdone\u001b[0m"
     ]
    }
   ],
   "source": [
    "# https://docs.docker.com/compose/install/\n",
    "!docker-compose up -d "
   ]
  },
  {
   "cell_type": "code",
   "execution_count": 4,
   "metadata": {},
   "outputs": [
    {
     "name": "stdout",
     "output_type": "stream",
     "text": [
      "{'jsonData': {'anger': '0.00013194197', 'contempt': '0.0011185447', 'disgust': '4.5716053e-05', 'fear': '2.5447316e-05', 'happiness': '0.90062636', 'neutral': '0.096829824', 'sadness': '0.0007716461', 'surprise': '0.00045050686'}, 'meta': {}}\n"
     ]
    }
   ],
   "source": [
    "# pip install Pillow\n",
    "from PIL import Image\n",
    "# pip install numpy\n",
    "import numpy as np\n",
    "# pip install requests\n",
    "import requests\n",
    "path_to_image = \"images/smile.jpg\"\n",
    "image = Image.open(path_to_image).convert('L')\n",
    "resized = image.resize((64, 64))\n",
    "values = np.array(resized).reshape(1, 1, 64, 64)\n",
    "req = requests.post(\"http://localhost:5000/predict\",\n",
    "              json={\"data\":{\"ndarray\": values.tolist()}})\n",
    "print(req.json())"
   ]
  }
 ],
 "metadata": {
  "kernelspec": {
   "display_name": "Python 3",
   "language": "python",
   "name": "python3"
  },
  "language_info": {
   "codemirror_mode": {
    "name": "ipython",
    "version": 3
   },
   "file_extension": ".py",
   "mimetype": "text/x-python",
   "name": "python",
   "nbconvert_exporter": "python",
   "pygments_lexer": "ipython3",
   "version": "3.6.7"
  }
 },
 "nbformat": 4,
 "nbformat_minor": 2
}
